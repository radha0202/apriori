{
 "cells": [
  {
   "cell_type": "code",
   "execution_count": 1,
   "metadata": {},
   "outputs": [
    {
     "name": "stdout",
     "output_type": "stream",
     "text": [
      "Frequent Itemsets: [{'milk'}, {'butter'}, {'bread'}, frozenset({'butter', 'bread'}), frozenset({'bread', 'milk'}), frozenset({'butter', 'milk'})]\n"
     ]
    }
   ],
   "source": [
    "from itertools import combinations\n",
    "\n",
    "def get_frequent_itemsets(transactions, min_support):\n",
    "    item_counts = {}\n",
    "    \n",
    "    for transaction in transactions:\n",
    "        for item in transaction:\n",
    "            item_counts[item] = item_counts.get(item, 0) + 1\n",
    "\n",
    "    min_count = min_support * len(transactions)\n",
    "    frequent_items = {item for item, count in item_counts.items() if count >= min_count}\n",
    "\n",
    "    frequent_itemsets = [{item} for item in frequent_items]\n",
    "    result = list(frequent_itemsets)\n",
    "\n",
    "    k = 2\n",
    "    while frequent_itemsets:\n",
    "        new_itemsets = []\n",
    "        candidates = [set(i) | set(j) for i in frequent_itemsets for j in frequent_itemsets if len(i | j) == k]\n",
    "        candidates = set(map(frozenset, candidates))  \n",
    "\n",
    "        for candidate in candidates:\n",
    "            count = sum(1 for transaction in transactions if candidate.issubset(transaction))\n",
    "            if count >= min_count:\n",
    "                new_itemsets.append(candidate)\n",
    "\n",
    "        frequent_itemsets = new_itemsets\n",
    "        result.extend(frequent_itemsets)\n",
    "        k += 1\n",
    "\n",
    "    return result\n",
    "\n",
    "transactions = [\n",
    "    {'milk', 'bread', 'butter'},\n",
    "    {'beer', 'bread'},\n",
    "    {'milk', 'bread', 'butter'},\n",
    "    {'bread', 'butter'},\n",
    "    {'milk', 'butter'},\n",
    "    {'milk', 'bread'}\n",
    "]\n",
    "\n",
    "min_support = 0.5  \n",
    "\n",
    "frequent_itemsets = get_frequent_itemsets(transactions, min_support)\n",
    "print(\"Frequent Itemsets:\", frequent_itemsets)\n"
   ]
  }
 ],
 "metadata": {
  "kernelspec": {
   "display_name": "Python 3",
   "language": "python",
   "name": "python3"
  },
  "language_info": {
   "codemirror_mode": {
    "name": "ipython",
    "version": 3
   },
   "file_extension": ".py",
   "mimetype": "text/x-python",
   "name": "python",
   "nbconvert_exporter": "python",
   "pygments_lexer": "ipython3",
   "version": "3.12.6"
  }
 },
 "nbformat": 4,
 "nbformat_minor": 2
}
